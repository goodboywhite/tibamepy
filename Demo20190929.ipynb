{
 "cells": [
  {
   "cell_type": "markdown",
   "metadata": {},
   "source": [
    "## Homework 20190921"
   ]
  },
  {
   "cell_type": "markdown",
   "metadata": {},
   "source": [
    "### 安裝 Jieba"
   ]
  },
  {
   "cell_type": "code",
   "execution_count": 1,
   "metadata": {},
   "outputs": [
    {
     "name": "stdout",
     "output_type": "stream",
     "text": [
      "Collecting jieba\n",
      "  Downloading https://files.pythonhosted.org/packages/71/46/c6f9179f73b818d5827202ad1c4a94e371a29473b7f043b736b4dab6b8cd/jieba-0.39.zip (7.3MB)\n",
      "Building wheels for collected packages: jieba\n",
      "  Building wheel for jieba (setup.py): started\n",
      "  Building wheel for jieba (setup.py): finished with status 'done'\n",
      "  Stored in directory: C:\\Users\\User\\AppData\\Local\\pip\\Cache\\wheels\\c9\\c7\\63\\a9ec0322ccc7c365fd51e475942a82395807186e94f0522243\n",
      "Successfully built jieba\n",
      "Installing collected packages: jieba\n",
      "Successfully installed jieba-0.39\n"
     ]
    }
   ],
   "source": [
    "! pip install jieba"
   ]
  },
  {
   "cell_type": "markdown",
   "metadata": {},
   "source": [
    "### 如果碰到 SSL Verify Error"
   ]
  },
  {
   "cell_type": "code",
   "execution_count": null,
   "metadata": {},
   "outputs": [],
   "source": [
    "! pip install --trusted-host pypi.org --trusted-host files.pythonhosted.org --trusted-host pypi.python.org jieba"
   ]
  },
  {
   "cell_type": "markdown",
   "metadata": {},
   "source": [
    "### Jieba 切詞"
   ]
  },
  {
   "cell_type": "code",
   "execution_count": 3,
   "metadata": {},
   "outputs": [
    {
     "name": "stdout",
     "output_type": "stream",
     "text": [
      "媽祖/ 昨天/ 託/ 夢/ 請/ 我/ 選總統\n"
     ]
    }
   ],
   "source": [
    "import jieba\n",
    "\n",
    "seg_list = jieba.cut(\"媽祖昨天託夢請我選總統\")\n",
    "print(\"/ \".join(seg_list))  "
   ]
  },
  {
   "cell_type": "code",
   "execution_count": 4,
   "metadata": {},
   "outputs": [],
   "source": [
    "jieba.load_userdict('userdict.txt')"
   ]
  },
  {
   "cell_type": "code",
   "execution_count": 5,
   "metadata": {},
   "outputs": [
    {
     "name": "stdout",
     "output_type": "stream",
     "text": [
      "媽祖/ 昨天/ 託夢/ 請/ 我/ 選總統\n"
     ]
    }
   ],
   "source": [
    "import jieba\n",
    "seg_list = jieba.cut(\"媽祖昨天託夢請我選總統\")\n",
    "print(\"/ \".join(seg_list))  "
   ]
  },
  {
   "cell_type": "markdown",
   "metadata": {},
   "source": [
    "### 請用 jieba 將郭台銘演說文切詞"
   ]
  },
  {
   "cell_type": "code",
   "execution_count": 28,
   "metadata": {},
   "outputs": [],
   "source": [
    "speech = '''\n",
    "人生充滿著各種大大小小的決定。有些決定很容易，有些決定很困難。\n",
    "\n",
    "我一直在思考：什麼是真正的承擔？一肩挑起是承擔？又或者，放下才是真正的承擔？\n",
    "\n",
    "我參選總統的初衷，是希望能夠帶領台灣社會齊心拚經濟，但投身選戰以來，我看到的卻是一些政治人物為了私利，挑起階級、仇恨、對立等民粹，那麼，這些會因為我義無反顧的挑起責任而終結嗎？抑或是需要我放下才可能拉回走偏的旋律呢？\n",
    "\n",
    "不是因為任何人的勸說與影響，而是因為我再三思考之後，希望讓社會在關注國家領導人的選擇時，能夠回歸理性思考與政策層面的討論，於是，我決定不參與2020連署競選總統。\n",
    "\n",
    "也因此，我要向期盼我出來參選的好朋友們深深一鞠躬，表達我最誠摯的歉意：「對不起，我讓你們失望了！」我知道這個決定會讓很多支持者難以接受，雖然參與政治到現在才短短的時間，但大家的熱情我都感受到了，尤其，當我聽到一些支持者即使遭到言語霸凌也仍然堅定支持我時，更是讓我感到心疼與感謝。因此，我除了要對支持者表達最誠摯的歉意之外，也要對大家說聲「謝謝你們」，感謝大家一直以來對我的支持與愛護。\n",
    "\n",
    "這幾個月來，我有機會能夠跟各行各業的朋友接觸、談心，讓我更清楚知道能夠為眾人服務是一件快樂又有意義的事情，因此，雖然不參與總統選舉，但並不表示我放棄參與政治事務。我會持續積極推動我所提出的政策，也期盼能夠有更多有理念的朋友願意一起為台灣繼續努力，讓台灣有著和平、安定、經濟與未來。\n",
    "\n",
    "而這陣子以來，無論是對我的抨擊，或是對我的肯定，我也都會或反省、或珍惜的，將這些化為我人生路上更豐富的養分。\n",
    "\n",
    "我依然是永遠的中華民國派。當中華民國需要郭台銘的時候，郭台銘永遠都在。\n",
    "'''"
   ]
  },
  {
   "cell_type": "code",
   "execution_count": 9,
   "metadata": {},
   "outputs": [
    {
     "data": {
      "text/plain": [
       "['this', 'is', 'a', 'book']"
      ]
     },
     "execution_count": 9,
     "metadata": {},
     "output_type": "execute_result"
    }
   ],
   "source": [
    "a = 'this is a book'\n",
    "words = a.split()\n",
    "words"
   ]
  },
  {
   "cell_type": "code",
   "execution_count": 41,
   "metadata": {},
   "outputs": [],
   "source": [
    "ary = []\n",
    "with open('stopwords.txt', 'r', encoding = 'utf-8') as f:\n",
    "    for w in f.readlines():\n",
    "        ary.append(w.strip())\n",
    "#ary"
   ]
  },
  {
   "cell_type": "code",
   "execution_count": 44,
   "metadata": {},
   "outputs": [],
   "source": [
    "#with open('stopwords.txt', 'r', encoding = 'utf-8') as f:\n",
    "#    stopwords = f.read()\n",
    "#stopwords\n",
    "stopwords = [w.strip() for w in open('stopwords.txt', 'r', encoding = 'utf-8')]"
   ]
  },
  {
   "cell_type": "code",
   "execution_count": 45,
   "metadata": {},
   "outputs": [],
   "source": [
    "words = jieba.cut(speech)\n",
    "#for w in words:\n",
    "#    print(w)\n",
    "\n",
    "#list(words)"
   ]
  },
  {
   "cell_type": "code",
   "execution_count": 46,
   "metadata": {},
   "outputs": [],
   "source": [
    "dic = {}\n",
    "for w in list(words):\n",
    "    if len(w) >=2 and w not in stopwords:\n",
    "        if w not in dic:\n",
    "            dic[w] = 1\n",
    "        else:\n",
    "            dic[w] = dic[w] + 1"
   ]
  },
  {
   "cell_type": "code",
   "execution_count": 47,
   "metadata": {},
   "outputs": [],
   "source": [
    "swd = sorted(dic.items(), key = lambda e: e[1], reverse=True)"
   ]
  },
  {
   "cell_type": "code",
   "execution_count": 48,
   "metadata": {},
   "outputs": [
    {
     "name": "stdout",
     "output_type": "stream",
     "text": [
      "決定 5\n",
      "能夠 5\n",
      "思考 3\n",
      "承擔 3\n",
      "總統 3\n",
      "政治 3\n",
      "朋友 3\n",
      "支持者 3\n",
      "人生 2\n",
      "一直 2\n"
     ]
    }
   ],
   "source": [
    "for k,v in swd[0:10]:\n",
    "    print(k,v)"
   ]
  },
  {
   "cell_type": "markdown",
   "metadata": {},
   "source": [
    "## CKIPTagger\n",
    "- https://github.com/ckiplab/ckiptagger"
   ]
  },
  {
   "cell_type": "markdown",
   "metadata": {},
   "source": [
    "## Homework 20190922\n",
    "\n",
    "回家作業\n",
    "\n",
    "試抓取自由時報的即時新聞列表, 並將標題, 連結與時間整理出來\n",
    "https://news.ltn.com.tw/list/breakingnews"
   ]
  },
  {
   "cell_type": "code",
   "execution_count": 49,
   "metadata": {},
   "outputs": [
    {
     "data": {
      "text/plain": [
       "<Response [200]>"
      ]
     },
     "execution_count": 49,
     "metadata": {},
     "output_type": "execute_result"
    }
   ],
   "source": [
    "import requests\n",
    "res =  requests.get('https://news.ltn.com.tw/list/breakingnews')\n",
    "res"
   ]
  },
  {
   "cell_type": "code",
   "execution_count": 52,
   "metadata": {},
   "outputs": [],
   "source": [
    "from bs4 import BeautifulSoup\n",
    "soup = BeautifulSoup(res.text, 'lxml')\n",
    "#soup"
   ]
  },
  {
   "cell_type": "markdown",
   "metadata": {},
   "source": [
    "### CSS Selector\n",
    "- https://www.w3schools.com/cssref/css_selectors.asp"
   ]
  },
  {
   "cell_type": "code",
   "execution_count": 62,
   "metadata": {},
   "outputs": [
    {
     "name": "stdout",
     "output_type": "stream",
     "text": [
      "（贈票）久石讓操刀配樂《海獸之子》身歷其境奇幻海洋國度                                                    \n",
      "==========================================\n",
      "NBA》美媒預測湖人將大手筆續約 A.戴維斯下季動向語帶保留                                                    \n",
      "==========================================\n",
      "官大一定學問大？ 音樂人一席話突破盲點                                                    \n",
      "==========================================\n",
      "籌贍養費自斷前程 消防分隊長詐2萬多公款判1年10月                                                    \n",
      "==========================================\n",
      "==========================================\n",
      "是否再替韓國瑜站台？ 馬英九今親自回應                                                    \n",
      "==========================================\n",
      "12強》不選強打捕手森友哉 西武3將有望進日本隊                                                    \n",
      "==========================================\n",
      "Toyota 集團全新小 SUV 車名遭日媒曝光，連試駕感想都出爐！                                                    \n",
      "==========================================\n",
      "沿著基隆河路跑 馬英九與跑者漫步黃金山城                                                            \n",
      "\n",
      "\n",
      "\n",
      "==========================================\n",
      "MLB》洋基派克斯頓昨僅投一局就傷退 檢查結果出爐                                                            \n",
      "\n",
      "\n",
      "\n",
      "==========================================\n",
      "MLB》光芒打線熄火吞敗 恐失外卡主場優勢                                                    \n",
      "==========================================\n",
      "吳建恆奪廣播金鐘最大獎 曹西平爆不為人知秘辛                                                    \n",
      "==========================================\n",
      "太麻里三和漁場有觀光潛力 公有地將整合                                                    \n",
      "==========================================\n",
      "MLB》陳偉殷受隊友失誤拖累 遭哈波敲三分彈 （影音）                                                            \n",
      "\n",
      "\n",
      "\n",
      "==========================================\n",
      "高市文化局長推「事務官」壯聲勢 陳瓊華：公務機關的白色恐怖                                                    \n",
      "==========================================\n",
      "自稱被跟蹤竟朝捷運車廂噴防狼噴霧 法官罰他2千元                                                     \n",
      "==========================================\n",
      "3 年前老 iPhone 屹立不搖！手機市佔調查：新一代旗艦全落榜                                                    \n",
      "==========================================\n",
      "廢除選罷法一票30元 黃創夏爆有人恐不選了                                                    \n",
      "==========================================\n"
     ]
    }
   ],
   "source": [
    "#try - except\n",
    "for news in soup.select('ul.list li'):\n",
    "    try:\n",
    "        print(news.select_one('p').text)\n",
    "    except:\n",
    "        pass\n",
    "    print('==========================================')"
   ]
  },
  {
   "cell_type": "code",
   "execution_count": 63,
   "metadata": {},
   "outputs": [],
   "source": [
    "# None, False, [], {}, ()\n",
    "if None:\n",
    "    print('yes')"
   ]
  },
  {
   "cell_type": "code",
   "execution_count": 65,
   "metadata": {},
   "outputs": [],
   "source": [
    "if []:\n",
    "    print('yes')"
   ]
  },
  {
   "cell_type": "code",
   "execution_count": 64,
   "metadata": {},
   "outputs": [
    {
     "name": "stdout",
     "output_type": "stream",
     "text": [
      "yes\n"
     ]
    }
   ],
   "source": [
    "if [1,2,3]:\n",
    "    print('yes')"
   ]
  },
  {
   "cell_type": "code",
   "execution_count": 77,
   "metadata": {},
   "outputs": [
    {
     "name": "stdout",
     "output_type": "stream",
     "text": [
      "（贈票）久石讓操刀配樂《海獸之子》身歷其境奇幻海洋國度 https://ent.ltn.com.tw/news/breakingnews/2929563 10:00\n",
      "==========================================\n",
      "NBA》美媒預測湖人將大手筆續約 A.戴維斯下季動向語帶保留 https://sports.ltn.com.tw/news/breakingnews/2930369 09:58\n",
      "==========================================\n",
      "官大一定學問大？ 音樂人一席話突破盲點 https://ent.ltn.com.tw/news/breakingnews/2930400 09:48\n",
      "==========================================\n",
      "籌贍養費自斷前程 消防分隊長詐2萬多公款判1年10月 https://news.ltn.com.tw/news/society/breakingnews/2930391 09:39\n",
      "==========================================\n",
      "是否再替韓國瑜站台？ 馬英九今親自回應 https://news.ltn.com.tw/news/politics/breakingnews/2930385 09:37\n",
      "==========================================\n",
      "12強》不選強打捕手森友哉 西武3將有望進日本隊 https://sports.ltn.com.tw/news/breakingnews/2930361 09:36\n",
      "==========================================\n",
      "Toyota 集團全新小 SUV 車名遭日媒曝光，連試駕感想都出爐！ https:https://auto.ltn.com.tw/news/13662 09:35\n",
      "==========================================\n",
      "沿著基隆河路跑 馬英九與跑者漫步黃金山城 https://news.ltn.com.tw/news/life/breakingnews/2930386 09:34\n",
      "==========================================\n",
      "MLB》洋基派克斯頓昨僅投一局就傷退 檢查結果出爐 https://sports.ltn.com.tw/news/breakingnews/2930339 09:32\n",
      "==========================================\n",
      "MLB》光芒打線熄火吞敗 恐失外卡主場優勢 https://sports.ltn.com.tw/news/breakingnews/2930341 09:31\n",
      "==========================================\n",
      "吳建恆奪廣播金鐘最大獎 曹西平爆不為人知秘辛 https://ent.ltn.com.tw/news/breakingnews/2930379 09:22\n",
      "==========================================\n",
      "太麻里三和漁場有觀光潛力 公有地將整合 https://news.ltn.com.tw/news/life/breakingnews/2930370 09:20\n",
      "==========================================\n",
      "MLB》陳偉殷受隊友失誤拖累 遭哈波敲三分彈 （影音） https://sports.ltn.com.tw/news/breakingnews/2930345 09:20\n",
      "==========================================\n",
      "高市文化局長推「事務官」壯聲勢 陳瓊華：公務機關的白色恐怖 https://news.ltn.com.tw/news/politics/breakingnews/2930373 09:11\n",
      "==========================================\n",
      "自稱被跟蹤竟朝捷運車廂噴防狼噴霧 法官罰他2千元 https://news.ltn.com.tw/news/society/breakingnews/2930365 09:06\n",
      "==========================================\n",
      "3 年前老 iPhone 屹立不搖！手機市佔調查：新一代旗艦全落榜 https://3c.ltn.com.tw/news/38125 09:04\n",
      "==========================================\n",
      "廢除選罷法一票30元 黃創夏爆有人恐不選了 https://ent.ltn.com.tw/news/breakingnews/2930366 08:56\n",
      "==========================================\n"
     ]
    }
   ],
   "source": [
    "#soup.select('ul.list.imm')\n",
    "for news in soup.select('ul.list li'):\n",
    "    if news.select_one('p'):\n",
    "        #print(news)\n",
    "        title = news.select_one('p').text.strip()\n",
    "        link = 'https:' +news.select_one('a').get('href')\n",
    "        dt = news.select_one('span').text\n",
    "        print(title, link, dt)\n",
    "        print('==========================================')"
   ]
  },
  {
   "cell_type": "code",
   "execution_count": 88,
   "metadata": {},
   "outputs": [],
   "source": [
    "for news in soup.select('ul.list li'):\n",
    "    if news.select_one('p'):\n",
    "        link = news.select_one('img').get('src')\n",
    "        #print(link)\n",
    "        res2 = requests.get(link)\n",
    "        fname = link.split('/')[-1]\n",
    "        #print(fname)\n",
    "        with open(fname, 'wb') as f:\n",
    "            f.write(res2.content)\n",
    "        "
   ]
  },
  {
   "cell_type": "code",
   "execution_count": 86,
   "metadata": {},
   "outputs": [],
   "source": [
    "res2 = requests.get('https://img.ltn.com.tw/Upload/ent/page/800S/2019/09/28/phpZu8owC.jpg')\n",
    "with open('1.jpg', 'wb') as f:\n",
    "    f.write(res2.content)"
   ]
  },
  {
   "cell_type": "code",
   "execution_count": null,
   "metadata": {},
   "outputs": [],
   "source": []
  }
 ],
 "metadata": {
  "kernelspec": {
   "display_name": "Python 3",
   "language": "python",
   "name": "python3"
  },
  "language_info": {
   "codemirror_mode": {
    "name": "ipython",
    "version": 3
   },
   "file_extension": ".py",
   "mimetype": "text/x-python",
   "name": "python",
   "nbconvert_exporter": "python",
   "pygments_lexer": "ipython3",
   "version": "3.7.3"
  }
 },
 "nbformat": 4,
 "nbformat_minor": 2
}
